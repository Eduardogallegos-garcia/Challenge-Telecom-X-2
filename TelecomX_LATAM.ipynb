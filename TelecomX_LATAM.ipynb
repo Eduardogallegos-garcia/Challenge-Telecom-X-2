{
  "nbformat": 4,
  "nbformat_minor": 0,
  "metadata": {
    "colab": {
      "provenance": []
    },
    "kernelspec": {
      "name": "python3",
      "display_name": "Python 3"
    },
    "language_info": {
      "name": "python"
    }
  },
  "cells": [
    {
      "cell_type": "markdown",
      "source": [
        "#📌 Extracción"
      ],
      "metadata": {
        "id": "4foVEKhrlqcH"
      }
    },
    {
      "cell_type": "code",
      "source": [
        "import pandas as pd\n",
        "import json\n",
        "import urllib.request\n",
        "url = \"https://raw.githubusercontent.com/ingridcristh/challenge2-data-science-LATAM/main/TelecomX_Data.json\"\n",
        "with urllib.request.urlopen(url) as response:\n",
        "    data = json.loads(response.read().decode())\n",
        "df = pd.DataFrame(data)\n",
        "print(\"Filas:\", df.shape[0], \" Columnas:\", df.shape[1])\n",
        "print(df.head())"
      ],
      "metadata": {
        "id": "1--uPM88l7JH",
        "outputId": "5ad1b061-ad67-4a3b-e618-6a55523904fe",
        "colab": {
          "base_uri": "https://localhost:8080/"
        }
      },
      "execution_count": null,
      "outputs": [
        {
          "output_type": "stream",
          "name": "stdout",
          "text": [
            "Filas: 7267  Columnas: 6\n",
            "   customerID Churn                                           customer  \\\n",
            "0  0002-ORFBO    No  {'gender': 'Female', 'SeniorCitizen': 0, 'Part...   \n",
            "1  0003-MKNFE    No  {'gender': 'Male', 'SeniorCitizen': 0, 'Partne...   \n",
            "2  0004-TLHLJ   Yes  {'gender': 'Male', 'SeniorCitizen': 0, 'Partne...   \n",
            "3  0011-IGKFF   Yes  {'gender': 'Male', 'SeniorCitizen': 1, 'Partne...   \n",
            "4  0013-EXCHZ   Yes  {'gender': 'Female', 'SeniorCitizen': 1, 'Part...   \n",
            "\n",
            "                                             phone  \\\n",
            "0   {'PhoneService': 'Yes', 'MultipleLines': 'No'}   \n",
            "1  {'PhoneService': 'Yes', 'MultipleLines': 'Yes'}   \n",
            "2   {'PhoneService': 'Yes', 'MultipleLines': 'No'}   \n",
            "3   {'PhoneService': 'Yes', 'MultipleLines': 'No'}   \n",
            "4   {'PhoneService': 'Yes', 'MultipleLines': 'No'}   \n",
            "\n",
            "                                            internet  \\\n",
            "0  {'InternetService': 'DSL', 'OnlineSecurity': '...   \n",
            "1  {'InternetService': 'DSL', 'OnlineSecurity': '...   \n",
            "2  {'InternetService': 'Fiber optic', 'OnlineSecu...   \n",
            "3  {'InternetService': 'Fiber optic', 'OnlineSecu...   \n",
            "4  {'InternetService': 'Fiber optic', 'OnlineSecu...   \n",
            "\n",
            "                                             account  \n",
            "0  {'Contract': 'One year', 'PaperlessBilling': '...  \n",
            "1  {'Contract': 'Month-to-month', 'PaperlessBilli...  \n",
            "2  {'Contract': 'Month-to-month', 'PaperlessBilli...  \n",
            "3  {'Contract': 'Month-to-month', 'PaperlessBilli...  \n",
            "4  {'Contract': 'Month-to-month', 'PaperlessBilli...  \n"
          ]
        }
      ]
    },
    {
      "cell_type": "markdown",
      "source": [
        "#🔧 Transformación"
      ],
      "metadata": {
        "id": "1lSZP8zmmGZu"
      }
    },
    {
      "cell_type": "code",
      "source": [
        "df.info()\n",
        "print(df.describe())\n",
        "print(\"\\nColumnas del dataset:\")\n",
        "for col in df.columns:\n",
        "    print(f\"- {col} ({df[col].dtype})\")"
      ],
      "metadata": {
        "id": "bsm-WTLjmHvt",
        "outputId": "6e80454b-bba1-42ad-cdbf-aaba937dd0bb",
        "colab": {
          "base_uri": "https://localhost:8080/"
        }
      },
      "execution_count": null,
      "outputs": [
        {
          "output_type": "stream",
          "name": "stdout",
          "text": [
            "<class 'pandas.core.frame.DataFrame'>\n",
            "RangeIndex: 7267 entries, 0 to 7266\n",
            "Data columns (total 6 columns):\n",
            " #   Column      Non-Null Count  Dtype \n",
            "---  ------      --------------  ----- \n",
            " 0   customerID  7267 non-null   object\n",
            " 1   Churn       7267 non-null   object\n",
            " 2   customer    7267 non-null   object\n",
            " 3   phone       7267 non-null   object\n",
            " 4   internet    7267 non-null   object\n",
            " 5   account     7267 non-null   object\n",
            "dtypes: object(6)\n",
            "memory usage: 340.8+ KB\n",
            "        customerID Churn                                           customer  \\\n",
            "count         7267  7267                                               7267   \n",
            "unique        7267     3                                                891   \n",
            "top     9995-HOTOH    No  {'gender': 'Male', 'SeniorCitizen': 0, 'Partne...   \n",
            "freq             1  5174                                                223   \n",
            "\n",
            "                                                 phone  \\\n",
            "count                                             7267   \n",
            "unique                                               3   \n",
            "top     {'PhoneService': 'Yes', 'MultipleLines': 'No'}   \n",
            "freq                                              3495   \n",
            "\n",
            "                                                 internet  \\\n",
            "count                                                7267   \n",
            "unique                                                129   \n",
            "top     {'InternetService': 'No', 'OnlineSecurity': 'N...   \n",
            "freq                                                 1581   \n",
            "\n",
            "                                                  account  \n",
            "count                                                7267  \n",
            "unique                                               6931  \n",
            "top     {'Contract': 'Month-to-month', 'PaperlessBilli...  \n",
            "freq                                                    6  \n",
            "\n",
            "Columnas del dataset:\n",
            "- customerID (object)\n",
            "- Churn (object)\n",
            "- customer (object)\n",
            "- phone (object)\n",
            "- internet (object)\n",
            "- account (object)\n"
          ]
        }
      ]
    },
    {
      "cell_type": "markdown",
      "source": [
        "#Comprobación de incoherencias en los datos"
      ],
      "metadata": {
        "id": "6GAudChe-ZJf"
      }
    },
    {
      "cell_type": "code",
      "source": [
        "missing = df.isnull().mean().sort_values(ascending=False) * 100\n",
        "print(\"Porcentaje de valores ausentes:\")\n",
        "print(missing[missing > 0])"
      ],
      "metadata": {
        "id": "nyYuVueq-Fo_",
        "outputId": "2c8a4731-ab72-48a0-f148-4b04cccc7c16",
        "colab": {
          "base_uri": "https://localhost:8080/"
        }
      },
      "execution_count": null,
      "outputs": [
        {
          "output_type": "stream",
          "name": "stdout",
          "text": [
            "Porcentaje de valores ausentes:\n",
            "Series([], dtype: float64)\n"
          ]
        }
      ]
    },
    {
      "cell_type": "markdown",
      "source": [
        "#Manejo de inconsistencias"
      ],
      "metadata": {
        "id": "lTIipbW7-fmF"
      }
    },
    {
      "cell_type": "code",
      "source": [
        "df_clean = df.copy()\n",
        "\n",
        "\n",
        "df_clean = df_clean.drop_duplicates()\n",
        "\n",
        "\n",
        "cat_cols = df_clean.select_dtypes(include=\"object\").columns\n",
        "num_cols = df_clean.select_dtypes(exclude=\"object\").columns\n",
        "\n",
        "\n",
        "for col in cat_cols:\n",
        "    df_clean[col] = df_clean[col].astype(str).str.strip().str.lower()\n",
        "\n",
        "if \"TotalCharges\" in df_clean.columns:\n",
        "    df_clean[\"TotalCharges\"] = pd.to_numeric(df_clean[\"TotalCharges\"], errors=\"coerce\")\n",
        "\n",
        "\n",
        "for col in num_cols:\n",
        "    df_clean[col] = df_clean[col].fillna(df_clean[col].median())\n",
        "\n",
        "\n",
        "for col in cat_cols:\n",
        "    df_clean[col] = df_clean[col].fillna(df_clean[col].mode()[0])\n",
        "\n",
        "\n",
        "print(\"Columnas después de limpieza:\", df_clean.columns.tolist())\n",
        "print(\"Duplicados:\", df_clean.duplicated().sum())\n",
        "print(\"Valores nulos:\", df_clean.isnull().sum().sum())\n",
        "print(\"Dimensiones finales:\", df_clean.shape)\n",
        "\n",
        "df_clean.head()"
      ],
      "metadata": {
        "id": "WBsYjm2EKI-w"
      },
      "execution_count": null,
      "outputs": []
    },
    {
      "cell_type": "markdown",
      "source": [
        "#Columna de cuentas diarias"
      ],
      "metadata": {
        "id": "TRIHY1g8FG91"
      }
    },
    {
      "cell_type": "code",
      "source": [
        "\n",
        "if \"MonthlyCharges\" in df_clean.columns:\n",
        "\n",
        "    df_clean[\"Cuentas_Diarias\"] = df_clean[\"MonthlyCharges\"] / 30\n",
        "\n",
        "    print(\"Columna 'Cuentas_Diarias' creada correctamente \")\n",
        "    print(df_clean[[\"MonthlyCharges\", \"Cuentas_Diarias\"]].head())\n",
        "else:\n",
        "    print(\" La columna 'MonthlyCharges' no existe en el dataset. Revisa el nombre real de la columna de facturación.\")"
      ],
      "metadata": {
        "id": "-Sl8oBGwE8T2",
        "outputId": "f6ee0b56-34ca-48e0-8f94-7e3fd0f907e8",
        "colab": {
          "base_uri": "https://localhost:8080/"
        }
      },
      "execution_count": null,
      "outputs": [
        {
          "output_type": "stream",
          "name": "stdout",
          "text": [
            " La columna 'MonthlyCharges' no existe en el dataset. Revisa el nombre real de la columna de facturación.\n"
          ]
        }
      ]
    },
    {
      "cell_type": "code",
      "source": [],
      "metadata": {
        "id": "V08BZrB_FdPR"
      },
      "execution_count": null,
      "outputs": []
    },
    {
      "cell_type": "markdown",
      "source": [
        "#📊 Carga y análisis"
      ],
      "metadata": {
        "id": "6XnTC2NTmMRL"
      }
    },
    {
      "cell_type": "markdown",
      "source": [
        "#Análisis Descriptivo"
      ],
      "metadata": {
        "id": "-CnpK0mZF7G3"
      }
    },
    {
      "cell_type": "code",
      "source": [
        "import pandas as pd\n",
        "\n",
        "\n",
        "print(\" Estadísticas descriptivas (numéricas):\")\n",
        "display(df_clean.describe().T)\n",
        "\n",
        "\n",
        "print(\"\\n Medianas:\")\n",
        "print(df_clean.median(numeric_only=True))\n",
        "\n",
        "\n",
        "target_candidates = [c for c in df_clean.columns if \"churn\" in c.lower() or \"evas\" in c.lower()]\n",
        "if target_candidates:\n",
        "    target_col = target_candidates[0]\n",
        "    print(f\"\\n Distribución de la variable objetivo ({target_col}):\")\n",
        "    print(df_clean[target_col].value_counts(normalize=True) * 100)\n",
        "else:\n",
        "    print(\"\\n No se encontró automáticamente la variable objetivo (churn/evasión).\")\n",
        "\n",
        "\n",
        "print(\"\\n Variables categóricas:\")\n",
        "cat_cols = df_clean.select_dtypes(include=\"object\").columns\n",
        "for col in cat_cols:\n",
        "    print(f\"\\nColumna: {col}\")\n",
        "    print(df_clean[col].value_counts(normalize=True).head())\n",
        "    print(\"Moda:\", df_clean[col].mode()[0])"
      ],
      "metadata": {
        "id": "1jgUnLqTmPdd",
        "outputId": "2b0c656a-05ec-4673-bc97-5922612ea122",
        "colab": {
          "base_uri": "https://localhost:8080/",
          "height": 1000
        }
      },
      "execution_count": null,
      "outputs": [
        {
          "output_type": "stream",
          "name": "stdout",
          "text": [
            " Estadísticas descriptivas (numéricas):\n"
          ]
        },
        {
          "output_type": "display_data",
          "data": {
            "text/plain": [
              "           count unique                                                top  \\\n",
              "customerID  7267   7267                                         9995-HOTOH   \n",
              "Churn       7267      3                                                 No   \n",
              "customer    7267    891  {'gender': 'Male', 'SeniorCitizen': 0, 'Partne...   \n",
              "phone       7267      3     {'PhoneService': 'Yes', 'MultipleLines': 'No'}   \n",
              "internet    7267    129  {'InternetService': 'No', 'OnlineSecurity': 'N...   \n",
              "account     7267   6931  {'Contract': 'Month-to-month', 'PaperlessBilli...   \n",
              "\n",
              "            freq  \n",
              "customerID     1  \n",
              "Churn       5174  \n",
              "customer     223  \n",
              "phone       3495  \n",
              "internet    1581  \n",
              "account        6  "
            ],
            "text/html": [
              "\n",
              "  <div id=\"df-8a0df642-cc13-4257-bad8-c971e7c5925c\" class=\"colab-df-container\">\n",
              "    <div>\n",
              "<style scoped>\n",
              "    .dataframe tbody tr th:only-of-type {\n",
              "        vertical-align: middle;\n",
              "    }\n",
              "\n",
              "    .dataframe tbody tr th {\n",
              "        vertical-align: top;\n",
              "    }\n",
              "\n",
              "    .dataframe thead th {\n",
              "        text-align: right;\n",
              "    }\n",
              "</style>\n",
              "<table border=\"1\" class=\"dataframe\">\n",
              "  <thead>\n",
              "    <tr style=\"text-align: right;\">\n",
              "      <th></th>\n",
              "      <th>count</th>\n",
              "      <th>unique</th>\n",
              "      <th>top</th>\n",
              "      <th>freq</th>\n",
              "    </tr>\n",
              "  </thead>\n",
              "  <tbody>\n",
              "    <tr>\n",
              "      <th>customerID</th>\n",
              "      <td>7267</td>\n",
              "      <td>7267</td>\n",
              "      <td>9995-HOTOH</td>\n",
              "      <td>1</td>\n",
              "    </tr>\n",
              "    <tr>\n",
              "      <th>Churn</th>\n",
              "      <td>7267</td>\n",
              "      <td>3</td>\n",
              "      <td>No</td>\n",
              "      <td>5174</td>\n",
              "    </tr>\n",
              "    <tr>\n",
              "      <th>customer</th>\n",
              "      <td>7267</td>\n",
              "      <td>891</td>\n",
              "      <td>{'gender': 'Male', 'SeniorCitizen': 0, 'Partne...</td>\n",
              "      <td>223</td>\n",
              "    </tr>\n",
              "    <tr>\n",
              "      <th>phone</th>\n",
              "      <td>7267</td>\n",
              "      <td>3</td>\n",
              "      <td>{'PhoneService': 'Yes', 'MultipleLines': 'No'}</td>\n",
              "      <td>3495</td>\n",
              "    </tr>\n",
              "    <tr>\n",
              "      <th>internet</th>\n",
              "      <td>7267</td>\n",
              "      <td>129</td>\n",
              "      <td>{'InternetService': 'No', 'OnlineSecurity': 'N...</td>\n",
              "      <td>1581</td>\n",
              "    </tr>\n",
              "    <tr>\n",
              "      <th>account</th>\n",
              "      <td>7267</td>\n",
              "      <td>6931</td>\n",
              "      <td>{'Contract': 'Month-to-month', 'PaperlessBilli...</td>\n",
              "      <td>6</td>\n",
              "    </tr>\n",
              "  </tbody>\n",
              "</table>\n",
              "</div>\n",
              "    <div class=\"colab-df-buttons\">\n",
              "\n",
              "  <div class=\"colab-df-container\">\n",
              "    <button class=\"colab-df-convert\" onclick=\"convertToInteractive('df-8a0df642-cc13-4257-bad8-c971e7c5925c')\"\n",
              "            title=\"Convert this dataframe to an interactive table.\"\n",
              "            style=\"display:none;\">\n",
              "\n",
              "  <svg xmlns=\"http://www.w3.org/2000/svg\" height=\"24px\" viewBox=\"0 -960 960 960\">\n",
              "    <path d=\"M120-120v-720h720v720H120Zm60-500h600v-160H180v160Zm220 220h160v-160H400v160Zm0 220h160v-160H400v160ZM180-400h160v-160H180v160Zm440 0h160v-160H620v160ZM180-180h160v-160H180v160Zm440 0h160v-160H620v160Z\"/>\n",
              "  </svg>\n",
              "    </button>\n",
              "\n",
              "  <style>\n",
              "    .colab-df-container {\n",
              "      display:flex;\n",
              "      gap: 12px;\n",
              "    }\n",
              "\n",
              "    .colab-df-convert {\n",
              "      background-color: #E8F0FE;\n",
              "      border: none;\n",
              "      border-radius: 50%;\n",
              "      cursor: pointer;\n",
              "      display: none;\n",
              "      fill: #1967D2;\n",
              "      height: 32px;\n",
              "      padding: 0 0 0 0;\n",
              "      width: 32px;\n",
              "    }\n",
              "\n",
              "    .colab-df-convert:hover {\n",
              "      background-color: #E2EBFA;\n",
              "      box-shadow: 0px 1px 2px rgba(60, 64, 67, 0.3), 0px 1px 3px 1px rgba(60, 64, 67, 0.15);\n",
              "      fill: #174EA6;\n",
              "    }\n",
              "\n",
              "    .colab-df-buttons div {\n",
              "      margin-bottom: 4px;\n",
              "    }\n",
              "\n",
              "    [theme=dark] .colab-df-convert {\n",
              "      background-color: #3B4455;\n",
              "      fill: #D2E3FC;\n",
              "    }\n",
              "\n",
              "    [theme=dark] .colab-df-convert:hover {\n",
              "      background-color: #434B5C;\n",
              "      box-shadow: 0px 1px 3px 1px rgba(0, 0, 0, 0.15);\n",
              "      filter: drop-shadow(0px 1px 2px rgba(0, 0, 0, 0.3));\n",
              "      fill: #FFFFFF;\n",
              "    }\n",
              "  </style>\n",
              "\n",
              "    <script>\n",
              "      const buttonEl =\n",
              "        document.querySelector('#df-8a0df642-cc13-4257-bad8-c971e7c5925c button.colab-df-convert');\n",
              "      buttonEl.style.display =\n",
              "        google.colab.kernel.accessAllowed ? 'block' : 'none';\n",
              "\n",
              "      async function convertToInteractive(key) {\n",
              "        const element = document.querySelector('#df-8a0df642-cc13-4257-bad8-c971e7c5925c');\n",
              "        const dataTable =\n",
              "          await google.colab.kernel.invokeFunction('convertToInteractive',\n",
              "                                                    [key], {});\n",
              "        if (!dataTable) return;\n",
              "\n",
              "        const docLinkHtml = 'Like what you see? Visit the ' +\n",
              "          '<a target=\"_blank\" href=https://colab.research.google.com/notebooks/data_table.ipynb>data table notebook</a>'\n",
              "          + ' to learn more about interactive tables.';\n",
              "        element.innerHTML = '';\n",
              "        dataTable['output_type'] = 'display_data';\n",
              "        await google.colab.output.renderOutput(dataTable, element);\n",
              "        const docLink = document.createElement('div');\n",
              "        docLink.innerHTML = docLinkHtml;\n",
              "        element.appendChild(docLink);\n",
              "      }\n",
              "    </script>\n",
              "  </div>\n",
              "\n",
              "\n",
              "    <div id=\"df-36d50ea4-4b09-4df4-b1d2-7c4f74e6b174\">\n",
              "      <button class=\"colab-df-quickchart\" onclick=\"quickchart('df-36d50ea4-4b09-4df4-b1d2-7c4f74e6b174')\"\n",
              "                title=\"Suggest charts\"\n",
              "                style=\"display:none;\">\n",
              "\n",
              "<svg xmlns=\"http://www.w3.org/2000/svg\" height=\"24px\"viewBox=\"0 0 24 24\"\n",
              "     width=\"24px\">\n",
              "    <g>\n",
              "        <path d=\"M19 3H5c-1.1 0-2 .9-2 2v14c0 1.1.9 2 2 2h14c1.1 0 2-.9 2-2V5c0-1.1-.9-2-2-2zM9 17H7v-7h2v7zm4 0h-2V7h2v10zm4 0h-2v-4h2v4z\"/>\n",
              "    </g>\n",
              "</svg>\n",
              "      </button>\n",
              "\n",
              "<style>\n",
              "  .colab-df-quickchart {\n",
              "      --bg-color: #E8F0FE;\n",
              "      --fill-color: #1967D2;\n",
              "      --hover-bg-color: #E2EBFA;\n",
              "      --hover-fill-color: #174EA6;\n",
              "      --disabled-fill-color: #AAA;\n",
              "      --disabled-bg-color: #DDD;\n",
              "  }\n",
              "\n",
              "  [theme=dark] .colab-df-quickchart {\n",
              "      --bg-color: #3B4455;\n",
              "      --fill-color: #D2E3FC;\n",
              "      --hover-bg-color: #434B5C;\n",
              "      --hover-fill-color: #FFFFFF;\n",
              "      --disabled-bg-color: #3B4455;\n",
              "      --disabled-fill-color: #666;\n",
              "  }\n",
              "\n",
              "  .colab-df-quickchart {\n",
              "    background-color: var(--bg-color);\n",
              "    border: none;\n",
              "    border-radius: 50%;\n",
              "    cursor: pointer;\n",
              "    display: none;\n",
              "    fill: var(--fill-color);\n",
              "    height: 32px;\n",
              "    padding: 0;\n",
              "    width: 32px;\n",
              "  }\n",
              "\n",
              "  .colab-df-quickchart:hover {\n",
              "    background-color: var(--hover-bg-color);\n",
              "    box-shadow: 0 1px 2px rgba(60, 64, 67, 0.3), 0 1px 3px 1px rgba(60, 64, 67, 0.15);\n",
              "    fill: var(--button-hover-fill-color);\n",
              "  }\n",
              "\n",
              "  .colab-df-quickchart-complete:disabled,\n",
              "  .colab-df-quickchart-complete:disabled:hover {\n",
              "    background-color: var(--disabled-bg-color);\n",
              "    fill: var(--disabled-fill-color);\n",
              "    box-shadow: none;\n",
              "  }\n",
              "\n",
              "  .colab-df-spinner {\n",
              "    border: 2px solid var(--fill-color);\n",
              "    border-color: transparent;\n",
              "    border-bottom-color: var(--fill-color);\n",
              "    animation:\n",
              "      spin 1s steps(1) infinite;\n",
              "  }\n",
              "\n",
              "  @keyframes spin {\n",
              "    0% {\n",
              "      border-color: transparent;\n",
              "      border-bottom-color: var(--fill-color);\n",
              "      border-left-color: var(--fill-color);\n",
              "    }\n",
              "    20% {\n",
              "      border-color: transparent;\n",
              "      border-left-color: var(--fill-color);\n",
              "      border-top-color: var(--fill-color);\n",
              "    }\n",
              "    30% {\n",
              "      border-color: transparent;\n",
              "      border-left-color: var(--fill-color);\n",
              "      border-top-color: var(--fill-color);\n",
              "      border-right-color: var(--fill-color);\n",
              "    }\n",
              "    40% {\n",
              "      border-color: transparent;\n",
              "      border-right-color: var(--fill-color);\n",
              "      border-top-color: var(--fill-color);\n",
              "    }\n",
              "    60% {\n",
              "      border-color: transparent;\n",
              "      border-right-color: var(--fill-color);\n",
              "    }\n",
              "    80% {\n",
              "      border-color: transparent;\n",
              "      border-right-color: var(--fill-color);\n",
              "      border-bottom-color: var(--fill-color);\n",
              "    }\n",
              "    90% {\n",
              "      border-color: transparent;\n",
              "      border-bottom-color: var(--fill-color);\n",
              "    }\n",
              "  }\n",
              "</style>\n",
              "\n",
              "      <script>\n",
              "        async function quickchart(key) {\n",
              "          const quickchartButtonEl =\n",
              "            document.querySelector('#' + key + ' button');\n",
              "          quickchartButtonEl.disabled = true;  // To prevent multiple clicks.\n",
              "          quickchartButtonEl.classList.add('colab-df-spinner');\n",
              "          try {\n",
              "            const charts = await google.colab.kernel.invokeFunction(\n",
              "                'suggestCharts', [key], {});\n",
              "          } catch (error) {\n",
              "            console.error('Error during call to suggestCharts:', error);\n",
              "          }\n",
              "          quickchartButtonEl.classList.remove('colab-df-spinner');\n",
              "          quickchartButtonEl.classList.add('colab-df-quickchart-complete');\n",
              "        }\n",
              "        (() => {\n",
              "          let quickchartButtonEl =\n",
              "            document.querySelector('#df-36d50ea4-4b09-4df4-b1d2-7c4f74e6b174 button');\n",
              "          quickchartButtonEl.style.display =\n",
              "            google.colab.kernel.accessAllowed ? 'block' : 'none';\n",
              "        })();\n",
              "      </script>\n",
              "    </div>\n",
              "\n",
              "    </div>\n",
              "  </div>\n"
            ],
            "application/vnd.google.colaboratory.intrinsic+json": {
              "type": "dataframe",
              "summary": "{\n  \"name\": \"    print(\\\"Moda:\\\", df_clean[col]\",\n  \"rows\": 6,\n  \"fields\": [\n    {\n      \"column\": \"count\",\n      \"properties\": {\n        \"dtype\": \"date\",\n        \"min\": \"7267\",\n        \"max\": \"7267\",\n        \"num_unique_values\": 1,\n        \"samples\": [\n          \"7267\"\n        ],\n        \"semantic_type\": \"\",\n        \"description\": \"\"\n      }\n    },\n    {\n      \"column\": \"unique\",\n      \"properties\": {\n        \"dtype\": \"date\",\n        \"min\": 3,\n        \"max\": 7267,\n        \"num_unique_values\": 5,\n        \"samples\": [\n          3\n        ],\n        \"semantic_type\": \"\",\n        \"description\": \"\"\n      }\n    },\n    {\n      \"column\": \"top\",\n      \"properties\": {\n        \"dtype\": \"object\",\n        \"semantic_type\": \"\",\n        \"description\": \"\"\n      }\n    },\n    {\n      \"column\": \"freq\",\n      \"properties\": {\n        \"dtype\": \"date\",\n        \"min\": \"1\",\n        \"max\": \"5174\",\n        \"num_unique_values\": 6,\n        \"samples\": [\n          \"1\"\n        ],\n        \"semantic_type\": \"\",\n        \"description\": \"\"\n      }\n    }\n  ]\n}"
            }
          },
          "metadata": {}
        },
        {
          "output_type": "stream",
          "name": "stdout",
          "text": [
            "\n",
            " Medianas:\n",
            "Series([], dtype: float64)\n",
            "\n",
            " Distribución de la variable objetivo (Churn):\n",
            "Churn\n",
            "No     71.198569\n",
            "Yes    25.719004\n",
            "        3.082427\n",
            "Name: proportion, dtype: float64\n",
            "\n",
            " Variables categóricas:\n",
            "\n",
            "Columna: customerID\n",
            "customerID\n",
            "9995-HOTOH    0.000138\n",
            "0002-ORFBO    0.000138\n",
            "0003-MKNFE    0.000138\n",
            "9970-QBCDA    0.000138\n",
            "9968-FFVVH    0.000138\n",
            "Name: proportion, dtype: float64\n",
            "Moda: 0002-ORFBO\n",
            "\n",
            "Columna: Churn\n",
            "Churn\n",
            "No     0.711986\n",
            "Yes    0.257190\n",
            "       0.030824\n",
            "Name: proportion, dtype: float64\n",
            "Moda: No\n",
            "\n",
            "Columna: customer\n",
            "customer\n",
            "{'gender': 'Male', 'SeniorCitizen': 0, 'Partner': 'No', 'Dependents': 'No', 'tenure': 1}         0.030687\n",
            "{'gender': 'Female', 'SeniorCitizen': 0, 'Partner': 'No', 'Dependents': 'No', 'tenure': 1}       0.026421\n",
            "{'gender': 'Male', 'SeniorCitizen': 0, 'Partner': 'Yes', 'Dependents': 'Yes', 'tenure': 72}      0.010596\n",
            "{'gender': 'Female', 'SeniorCitizen': 0, 'Partner': 'Yes', 'Dependents': 'Yes', 'tenure': 72}    0.010458\n",
            "{'gender': 'Female', 'SeniorCitizen': 0, 'Partner': 'No', 'Dependents': 'No', 'tenure': 2}       0.010183\n",
            "Name: proportion, dtype: float64\n",
            "Moda: {'gender': 'Male', 'SeniorCitizen': 0, 'Partner': 'No', 'Dependents': 'No', 'tenure': 1}\n",
            "\n",
            "Columna: phone\n",
            "phone\n",
            "{'PhoneService': 'Yes', 'MultipleLines': 'No'}                 0.480941\n",
            "{'PhoneService': 'Yes', 'MultipleLines': 'Yes'}                0.421770\n",
            "{'PhoneService': 'No', 'MultipleLines': 'No phone service'}    0.097289\n",
            "Name: proportion, dtype: float64\n",
            "Moda: {'PhoneService': 'Yes', 'MultipleLines': 'No'}\n",
            "\n",
            "Columna: internet\n",
            "internet\n",
            "{'InternetService': 'No', 'OnlineSecurity': 'No internet service', 'OnlineBackup': 'No internet service', 'DeviceProtection': 'No internet service', 'TechSupport': 'No internet service', 'StreamingTV': 'No internet service', 'StreamingMovies': 'No internet service'}    0.217559\n",
            "{'InternetService': 'Fiber optic', 'OnlineSecurity': 'No', 'OnlineBackup': 'No', 'DeviceProtection': 'No', 'TechSupport': 'No', 'StreamingTV': 'No', 'StreamingMovies': 'No'}                                                                                                 0.057383\n",
            "{'InternetService': 'DSL', 'OnlineSecurity': 'No', 'OnlineBackup': 'No', 'DeviceProtection': 'No', 'TechSupport': 'No', 'StreamingTV': 'No', 'StreamingMovies': 'No'}                                                                                                         0.041833\n",
            "{'InternetService': 'Fiber optic', 'OnlineSecurity': 'No', 'OnlineBackup': 'No', 'DeviceProtection': 'No', 'TechSupport': 'No', 'StreamingTV': 'Yes', 'StreamingMovies': 'Yes'}                                                                                               0.025595\n",
            "{'InternetService': 'Fiber optic', 'OnlineSecurity': 'No', 'OnlineBackup': 'Yes', 'DeviceProtection': 'Yes', 'TechSupport': 'No', 'StreamingTV': 'Yes', 'StreamingMovies': 'Yes'}                                                                                             0.023669\n",
            "Name: proportion, dtype: float64\n",
            "Moda: {'InternetService': 'No', 'OnlineSecurity': 'No internet service', 'OnlineBackup': 'No internet service', 'DeviceProtection': 'No internet service', 'TechSupport': 'No internet service', 'StreamingTV': 'No internet service', 'StreamingMovies': 'No internet service'}\n",
            "\n",
            "Columna: account\n",
            "account\n",
            "{'Contract': 'Month-to-month', 'PaperlessBilling': 'No', 'PaymentMethod': 'Mailed check', 'Charges': {'Monthly': 20.05, 'Total': '20.05'}}         0.000826\n",
            "{'Contract': 'Month-to-month', 'PaperlessBilling': 'No', 'PaymentMethod': 'Mailed check', 'Charges': {'Monthly': 19.55, 'Total': '19.55'}}         0.000826\n",
            "{'Contract': 'Month-to-month', 'PaperlessBilling': 'Yes', 'PaymentMethod': 'Mailed check', 'Charges': {'Monthly': 20.25, 'Total': '20.25'}}        0.000688\n",
            "{'Contract': 'Month-to-month', 'PaperlessBilling': 'No', 'PaymentMethod': 'Mailed check', 'Charges': {'Monthly': 19.65, 'Total': '19.65'}}         0.000688\n",
            "{'Contract': 'Month-to-month', 'PaperlessBilling': 'Yes', 'PaymentMethod': 'Electronic check', 'Charges': {'Monthly': 69.65, 'Total': '69.65'}}    0.000550\n",
            "Name: proportion, dtype: float64\n",
            "Moda: {'Contract': 'Month-to-month', 'PaperlessBilling': 'No', 'PaymentMethod': 'Mailed check', 'Charges': {'Monthly': 19.55, 'Total': '19.55'}}\n"
          ]
        },
        {
          "output_type": "stream",
          "name": "stderr",
          "text": [
            "/tmp/ipython-input-3717714459.py:26: UserWarning: Unable to sort modes: '<' not supported between instances of 'dict' and 'dict'\n",
            "  print(\"Moda:\", df_clean[col].mode()[0])\n"
          ]
        }
      ]
    },
    {
      "cell_type": "markdown",
      "source": [
        "#Distribución de evasión"
      ],
      "metadata": {
        "id": "46F0cZpCGX6Q"
      }
    },
    {
      "cell_type": "code",
      "source": [
        "import matplotlib.pyplot as plt\n",
        "\n",
        "\n",
        "target_candidates = [c for c in df_clean.columns if \"churn\" in c.lower() or \"evas\" in c.lower()]\n",
        "if target_candidates:\n",
        "    target_col = target_candidates[0]\n",
        "    print(f\" Usando la columna objetivo: {target_col}\")\n",
        "\n",
        "\n",
        "    churn_counts = df_clean[target_col].value_counts()\n",
        "    churn_rate = churn_counts / churn_counts.sum() * 100\n",
        "    print(\"\\nDistribución de churn (%):\")\n",
        "    print(churn_rate.round(2))\n",
        "\n",
        "\n",
        "    plt.figure(figsize=(6,4))\n",
        "    churn_counts.plot(kind=\"bar\", rot=0)\n",
        "    plt.title(\"Distribución de la variable objetivo (Churn/Evasión)\")\n",
        "    plt.xlabel(\"Clase (0 = Retención, 1 = Churn)\")\n",
        "    plt.ylabel(\"Número de clientes\")\n",
        "    plt.show()\n",
        "\n",
        "\n",
        "else:\n",
        "    print(\" No se encontró automáticamente la columna 'churn' o 'evasión'. Revisa los nombres de columnas.\")"
      ],
      "metadata": {
        "id": "4A70IY4HGdDq",
        "outputId": "caed7a85-72af-458c-82fb-5abdf486c50b",
        "colab": {
          "base_uri": "https://localhost:8080/",
          "height": 550
        }
      },
      "execution_count": null,
      "outputs": [
        {
          "output_type": "stream",
          "name": "stdout",
          "text": [
            " Usando la columna objetivo: Churn\n",
            "\n",
            "Distribución de churn (%):\n",
            "Churn\n",
            "No     71.20\n",
            "Yes    25.72\n",
            "        3.08\n",
            "Name: count, dtype: float64\n"
          ]
        },
        {
          "output_type": "display_data",
          "data": {
            "text/plain": [
              "<Figure size 600x400 with 1 Axes>"
            ],
            "image/png": "[encoded data removed]"
          },
          "metadata": {}
        }
      ]
    },
    {
      "cell_type": "markdown",
      "source": [
        "#Recuento de evasión por variables categóricas"
      ],
      "metadata": {
        "id": "VNOBosx5G7Oy"
      }
    },
    {
      "cell_type": "code",
      "source": [
        "import matplotlib.pyplot as plt\n",
        "\n",
        "\n",
        "target_candidates = [c for c in df_clean.columns if \"churn\" in c.lower() or \"evas\" in c.lower()]\n",
        "if target_candidates:\n",
        "    target_col = target_candidates[0]\n",
        "    print(f\" Analizando churn por variables categóricas usando: {target_col}\")\n",
        "\n",
        "\n",
        "    cat_cols = df_clean.select_dtypes(include=\"object\").columns\n",
        "\n",
        "    cat_cols = [c for c in cat_cols if c != target_col]\n",
        "\n",
        "\n",
        "    for col in cat_cols:\n",
        "        churn_rate = df_clean.groupby(col)[target_col].mean().sort_values(ascending=False)\n",
        "\n",
        "        plt.figure(figsize=(7,4))\n",
        "        churn_rate.plot(kind=\"bar\")\n",
        "        plt.title(f\"Tasa de churn por {col}\")\n",
        "        plt.xlabel(col)\n",
        "        plt.ylabel(\"Proporción de churn\")\n",
        "        plt.xticks(rotation=45, ha=\"right\")\n",
        "        plt.show()\n",
        "else:\n",
        "    print(\" No se encontró automáticamente la columna 'churn' o 'evasión'. Revisa los nombres de columnas.\")"
      ],
      "metadata": {
        "id": "u2bJzibGHeiz"
      },
      "execution_count": null,
      "outputs": []
    },
    {
      "cell_type": "markdown",
      "source": [
        "#Conteo de evasión por variables numéricas"
      ],
      "metadata": {
        "id": "dslxWDHkHhXz"
      }
    },
    {
      "cell_type": "code",
      "source": [
        "import matplotlib.pyplot as plt\n",
        "import seaborn as sns\n",
        "\n",
        "\n",
        "target_candidates = [c for c in df_clean.columns if \"churn\" in c.lower() or \"evas\" in c.lower()]\n",
        "if target_candidates:\n",
        "    target_col = target_candidates[0]\n",
        "    print(f\" Analizando variables numéricas según: {target_col}\")\n",
        "\n",
        "\n",
        "    num_cols = df_clean.select_dtypes(include=[\"int64\", \"float64\"]).columns\n",
        "    num_cols = [c for c in num_cols if c != target_col]  # excluir target si es numérico\n",
        "\n",
        "\n",
        "    for col in num_cols:\n",
        "        plt.figure(figsize=(7,4))\n",
        "        sns.boxplot(x=target_col, y=col, data=df_clean, palette=\"Set2\")\n",
        "        plt.title(f\"Distribución de {col} por churn\")\n",
        "        plt.xlabel(\"Churn (0 = Retención, 1 = Evasión)\")\n",
        "        plt.ylabel(col)\n",
        "        plt.show()\n",
        "\n",
        "\n",
        "    for col in num_cols:\n",
        "        plt.figure(figsize=(7,4))\n",
        "        sns.histplot(data=df_clean, x=col, hue=target_col, kde=True, element=\"step\", stat=\"density\")\n",
        "        plt.title(f\"Histograma de {col} por churn\")\n",
        "        plt.xlabel(col)\n",
        "        plt.ylabel(\"Densidad\")\n",
        "        plt.show()\n",
        "\n",
        "else:\n",
        "    print(\" No se encontró automáticamente la columna 'churn' o 'evasión'. Revisa los nombres de columnas.\")"
      ],
      "metadata": {
        "id": "1LUBsvGWHnxJ",
        "outputId": "fe54244c-b335-45ce-9499-0b454c3fbf95",
        "colab": {
          "base_uri": "https://localhost:8080/"
        }
      },
      "execution_count": null,
      "outputs": [
        {
          "output_type": "stream",
          "name": "stdout",
          "text": [
            " Analizando variables numéricas según: Churn\n"
          ]
        }
      ]
    },
    {
      "cell_type": "markdown",
      "source": [
        "#Parte 2 del desafio Telecom X\n"
      ],
      "metadata": {
        "id": "qfqVVWlPO58D"
      }
    },
    {
      "cell_type": "markdown",
      "source": [
        "#Extracción del Archivo Tratado"
      ],
      "metadata": {
        "id": "sVbPnFVEO-lt"
      }
    },
    {
      "cell_type": "code",
      "source": [
        "import pandas as pd\n",
        "\n",
        "\n",
        "print(\" Columnas disponibles en df_clean:\")\n",
        "print(df_clean.columns)\n",
        "\n",
        "\n",
        "if df_clean['Churn'].dtype != 'int64' and df_clean['Churn'].dtype != 'float64':\n",
        "    df_clean['Churn'] = df_clean['Churn'].map({'Yes':1, 'No':0, 'Sí':1, 'No':0}).fillna(df_clean['Churn'])\n",
        "\n",
        "print(\"\\n Tipos de datos tras limpieza:\")\n",
        "print(df_clean.dtypes)\n",
        "\n",
        "\n",
        "print(\"\\n Distribución de Churn:\")\n",
        "print(df_clean['Churn'].value_counts(normalize=True) * 100)"
      ],
      "metadata": {
        "id": "zZZo_d5QP0WY"
      },
      "execution_count": null,
      "outputs": []
    },
    {
      "cell_type": "markdown",
      "source": [
        "#Eliminación de Columnas Irrelevantes"
      ],
      "metadata": {
        "id": "HsacqN6oP1zE"
      }
    },
    {
      "cell_type": "code",
      "source": [
        "irrelevantes = ['customerID']  # agregar aquí otras que detectemos como ID o irrelevantes\n",
        "\n",
        "\n",
        "df_clean = df_clean.drop(columns=[col for col in irrelevantes if col in df_clean.columns])\n",
        "\n",
        "print(\" Columnas finales para modelado:\")\n",
        "print(df_clean.columns)"
      ],
      "metadata": {
        "id": "qLI19CEiP9et"
      },
      "execution_count": null,
      "outputs": []
    },
    {
      "cell_type": "markdown",
      "source": [
        "#Encoding"
      ],
      "metadata": {
        "id": "x7MpEL8BQJcS"
      }
    },
    {
      "cell_type": "code",
      "source": [
        "import pandas as pd\n",
        "\n",
        "\n",
        "cat_cols = df_clean.select_dtypes(include=['object']).columns\n",
        "num_cols = df_clean.select_dtypes(include=['int64', 'float64']).columns\n",
        "\n",
        "print(\" Variables categóricas:\", list(cat_cols))\n",
        "print(\" Variables numéricas:\", list(num_cols))\n",
        "\n",
        "# Aplicamos One-Hot Encoding\n",
        "df_encoded = pd.get_dummies(df_clean, columns=cat_cols, drop_first=True)\n",
        "\n",
        "print(\"\\nTransformación completada. Nuevo shape del dataset:\", df_encoded.shape)\n",
        "print(\" Primeras columnas codificadas:\")\n",
        "print(df_encoded.head(3))"
      ],
      "metadata": {
        "id": "szIiz6YPQPZA"
      },
      "execution_count": null,
      "outputs": []
    },
    {
      "cell_type": "markdown",
      "source": [
        "#Verificación de la Proporción de Cancelación (Churn)"
      ],
      "metadata": {
        "id": "8hACZgpCQe7e"
      }
    },
    {
      "cell_type": "code",
      "source": [
        "# Distribución absoluta\n",
        "churn_counts = df_encoded['Churn'].value_counts()\n",
        "\n",
        "# Distribución porcentual\n",
        "churn_percent = df_encoded['Churn'].value_counts(normalize=True) * 100\n",
        "\n",
        "print(\"Distribución de clientes (Churn vs No Churn):\")\n",
        "print(churn_counts)\n",
        "print(\"\\nProporción porcentual:\")\n",
        "print(churn_percent)\n",
        "\n",
        "# Visualización\n",
        "import matplotlib.pyplot as plt\n",
        "\n",
        "plt.figure(figsize=(5,5))\n",
        "churn_percent.plot(kind='bar', color=['skyblue', 'salmon'])\n",
        "plt.title(\"Distribución de Churn (%)\")\n",
        "plt.ylabel(\"Porcentaje\")\n",
        "plt.xticks(rotation=0)\n",
        "plt.show()"
      ],
      "metadata": {
        "id": "BW9y0rYGQkuB"
      },
      "execution_count": null,
      "outputs": []
    },
    {
      "cell_type": "markdown",
      "source": [
        "#Normalización o Estandarización"
      ],
      "metadata": {
        "id": "46KsDvZ4Q2JD"
      }
    },
    {
      "cell_type": "code",
      "source": [
        "from sklearn.preprocessing import StandardScaler\n",
        "\n",
        "\n",
        "\n",
        "X = df_encoded.drop('Churn', axis=1)\n",
        "y = df_encoded['Churn']\n",
        "\n",
        "# Verificamos el rango de valores en las variables numéricas\n",
        "print(\" Estadísticas de las variables numéricas:\")\n",
        "print(X.describe().T[['min', 'max', 'mean', 'std']])\n",
        "\n",
        "# Escalado solo si aplicaremos modelos sensibles a la escala\n",
        "scaler = StandardScaler()\n",
        "X_scaled = scaler.fit_transform(X)\n",
        "\n",
        "print(\"\\n Datos escalados listos (para KNN, SVM, RegLog, Redes Neuronales).\")"
      ],
      "metadata": {
        "id": "JRBTTEZWQ92y"
      },
      "execution_count": null,
      "outputs": []
    },
    {
      "cell_type": "markdown",
      "source": [
        "#🎯 Correlación y Selección de Variables"
      ],
      "metadata": {
        "id": "tDTK_uJwRL1Q"
      }
    },
    {
      "cell_type": "markdown",
      "source": [
        "#Análisis de Correlación"
      ],
      "metadata": {
        "id": "-WwOt-ZkRTr1"
      }
    },
    {
      "cell_type": "code",
      "source": [
        "import seaborn as sns\n",
        "import matplotlib.pyplot as plt\n",
        "\n",
        "\n",
        "\n",
        "# Seleccionamos solo variables numéricas (incluyendo la target Churn)\n",
        "numeric_df = df_encoded.select_dtypes(include=['int64','float64'])\n",
        "\n",
        "# Calculamos la correlación de Pearson\n",
        "corr_matrix = numeric_df.corr()\n",
        "\n",
        "# Visualización con heatmap\n",
        "plt.figure(figsize=(12,8))\n",
        "sns.heatmap(corr_matrix, annot=True, cmap=\"coolwarm\", fmt=\".2f\", linewidths=0.5)\n",
        "plt.title(\"Matriz de Correlación entre Variables Numéricas\", fontsize=14)\n",
        "plt.show()\n",
        "\n",
        "# Correlación específica con la variable objetivo\n",
        "print(\" Correlación de las variables con la evasión (Churn):\")\n",
        "print(corr_matrix['Churn'].sort_values(ascending=False))"
      ],
      "metadata": {
        "id": "895RnLYARYfY"
      },
      "execution_count": null,
      "outputs": []
    },
    {
      "cell_type": "markdown",
      "source": [
        "#Análisis Dirigido"
      ],
      "metadata": {
        "id": "ffIJXs9NRlhr"
      }
    },
    {
      "cell_type": "code",
      "source": [
        "# Boxplot: Tiempo de contrato vs Churn\n",
        "plt.figure(figsize=(8,5))\n",
        "sns.boxplot(x=\"Churn\", y=\"tenure\", data=df_encoded, palette=\"Set2\")\n",
        "plt.title(\"Tiempo de contrato vs Cancelación\")\n",
        "plt.xlabel(\"Cancelación (0 = No, 1 = Sí)\")\n",
        "plt.ylabel(\"Tiempo de contrato (meses)\")\n",
        "plt.show()\n",
        "\n",
        "# Boxplot: Gasto total vs Churn\n",
        "plt.figure(figsize=(8,5))\n",
        "sns.boxplot(x=\"Churn\", y=\"TotalCharges\", data=df_encoded, palette=\"Set1\")\n",
        "plt.title(\"Gasto total vs Cancelación\")\n",
        "plt.xlabel(\"Cancelación (0 = No, 1 = Sí)\")\n",
        "plt.ylabel(\"Gasto total\")\n",
        "plt.show()\n",
        "\n",
        "# Scatter plot: Tiempo de contrato vs Gasto total, coloreado por Churn\n",
        "plt.figure(figsize=(8,6))\n",
        "sns.scatterplot(x=\"tenure\", y=\"TotalCharges\", hue=\"Churn\", data=df_encoded, alpha=0.6, palette=\"coolwarm\")\n",
        "plt.title(\"Relación entre Tiempo de contrato, Gasto total y Cancelación\")\n",
        "plt.xlabel(\"Tiempo de contrato (meses)\")\n",
        "plt.ylabel(\"Gasto total\")\n",
        "plt.show()"
      ],
      "metadata": {
        "id": "-NjSJoJySBdF"
      },
      "execution_count": null,
      "outputs": []
    },
    {
      "cell_type": "markdown",
      "source": [
        "#🤖 Modelado Predictivo"
      ],
      "metadata": {
        "id": "OCATuROSSGjo"
      }
    },
    {
      "cell_type": "markdown",
      "source": [
        "#Separación de Datos"
      ],
      "metadata": {
        "id": "NRzTFXmSSLec"
      }
    },
    {
      "cell_type": "code",
      "source": [
        "from sklearn.model_selection import train_test_split\n",
        "\n",
        "\n",
        "\n",
        "# Definimos variables predictoras (X) y variable objetivo (y)\n",
        "X = df_encoded.drop(\"Churn\", axis=1)\n",
        "y = df_encoded[\"Churn\"]\n",
        "\n",
        "# Dividimos en entrenamiento (70%) y prueba (30%)\n",
        "X_train, X_test, y_train, y_test = train_test_split(\n",
        "    X, y, test_size=0.3, random_state=42, stratify=y\n",
        ")\n",
        "\n",
        "print(\"Tamaño de los datos:\")\n",
        "print(f\"Entrenamiento: {X_train.shape[0]} registros\")\n",
        "print(f\"Prueba: {X_test.shape[0]} registros\")"
      ],
      "metadata": {
        "id": "fzAUlIqJSW4m"
      },
      "execution_count": null,
      "outputs": []
    },
    {
      "cell_type": "markdown",
      "source": [
        "#Creación de Modelos"
      ],
      "metadata": {
        "id": "x9lR8VOHVAIy"
      }
    },
    {
      "cell_type": "code",
      "source": [
        "from sklearn.preprocessing import StandardScaler\n",
        "from sklearn.linear_model import LogisticRegression\n",
        "from sklearn.ensemble import RandomForestClassifier\n",
        "from sklearn.pipeline import Pipeline\n",
        "from sklearn.metrics import classification_report, confusion_matrix, accuracy_score\n",
        "\n",
        "# ===============================\n",
        "# MODELO 1: Regresión Logística (con normalización)\n",
        "# ===============================\n",
        "\n",
        "pipeline_lr = Pipeline([\n",
        "    ('scaler', StandardScaler()),  # normalización\n",
        "    ('logreg', LogisticRegression(random_state=42, max_iter=1000))\n",
        "])\n",
        "\n",
        "pipeline_lr.fit(X_train, y_train)\n",
        "y_pred_lr = pipeline_lr.predict(X_test)\n",
        "\n",
        "print(\" Regresión Logística (con normalización)\")\n",
        "print(\"Accuracy:\", accuracy_score(y_test, y_pred_lr))\n",
        "print(\"\\nConfusion Matrix:\\n\", confusion_matrix(y_test, y_pred_lr))\n",
        "print(\"\\nClassification Report:\\n\", classification_report(y_test, y_pred_lr))\n",
        "\n",
        "# ===============================\n",
        "# MODELO 2: Random Forest (sin normalización)\n",
        "# ===============================\n",
        "\n",
        "rf = RandomForestClassifier(random_state=42, n_estimators=200)\n",
        "rf.fit(X_train, y_train)\n",
        "y_pred_rf = rf.predict(X_test)\n",
        "\n",
        "print(\"\\n Random Forest (sin normalización)\")\n",
        "print(\"Accuracy:\", accuracy_score(y_test, y_pred_rf))\n",
        "print(\"\\nConfusion Matrix:\\n\", confusion_matrix(y_test, y_pred_rf))\n",
        "print(\"\\nClassification Report:\\n\", classification_report(y_test, y_pred_rf))"
      ],
      "metadata": {
        "id": "BoYol4QGVGYN"
      },
      "execution_count": null,
      "outputs": []
    },
    {
      "cell_type": "markdown",
      "source": [
        "#Evaluación de los Modelos"
      ],
      "metadata": {
        "id": "E17qkXlrVYal"
      }
    },
    {
      "cell_type": "code",
      "source": [
        "from sklearn.metrics import accuracy_score, precision_score, recall_score, f1_score, confusion_matrix\n",
        "\n",
        "def evaluar_modelo(nombre, y_test, y_pred):\n",
        "    print(f\"\\n Evaluación del Modelo: {nombre}\")\n",
        "    print(\"Exactitud (Accuracy):\", accuracy_score(y_test, y_pred))\n",
        "    print(\"Precisión:\", precision_score(y_test, y_pred))\n",
        "    print(\"Recall:\", recall_score(y_test, y_pred))\n",
        "    print(\"F1-score:\", f1_score(y_test, y_pred))\n",
        "    print(\"\\nMatriz de Confusión:\\n\", confusion_matrix(y_test, y_pred))\n",
        "\n",
        "# Evaluar Regresión Logística\n",
        "evaluar_modelo(\"Regresión Logística\", y_test, y_pred_lr)\n",
        "\n",
        "# Evaluar Random Forest\n",
        "evaluar_modelo(\"Random Forest\", y_test, y_pred_rf)"
      ],
      "metadata": {
        "id": "YyeMfe5UVdO6"
      },
      "execution_count": null,
      "outputs": []
    },
    {
      "cell_type": "markdown",
      "source": [
        "#📋 Interpretación y Conclusiones"
      ],
      "metadata": {
        "id": "P-73tRZyV1mc"
      }
    },
    {
      "cell_type": "markdown",
      "source": [
        "#Análisis de la Importancia de las Variables"
      ],
      "metadata": {
        "id": "i5VRzRpIV9ek"
      }
    },
    {
      "cell_type": "code",
      "source": [
        "# Regresión Logistica\n",
        "import pandas as pd\n",
        "import numpy as np\n",
        "\n",
        "# Extraer coeficientes de la Regresión Logística\n",
        "coeficientes = pd.DataFrame({\n",
        "    \"Variable\": X_train.columns,\n",
        "    \"Coeficiente\": lr.coef_[0]\n",
        "}).sort_values(by=\"Coeficiente\", ascending=False)\n",
        "\n",
        "coeficientes\n",
        "\n",
        "#KNN\n",
        "\n",
        "from sklearn.inspection import permutation_importance\n",
        "\n",
        "result_knn = permutation_importance(knn, X_test_scaled, y_test, n_repeats=10, random_state=42)\n",
        "importancia_knn = pd.DataFrame({\n",
        "    \"Variable\": X_train.columns,\n",
        "    \"Importancia\": result_knn.importances_mean\n",
        "}).sort_values(by=\"Importancia\", ascending=False)\n",
        "\n",
        "importancia_knn\n",
        "\n",
        "#Random Forest\n",
        "importancia_rf = pd.DataFrame({\n",
        "    \"Variable\": X_train.columns,\n",
        "    \"Importancia\": rf.feature_importances_\n",
        "}).sort_values(by=\"Importancia\", ascending=False)\n",
        "\n",
        "importancia_rf\n",
        "\n",
        "#svm\n",
        "\n",
        "from sklearn.svm import SVC\n",
        "\n",
        "svm = SVC(kernel=\"linear\", random_state=42)\n",
        "svm.fit(X_train_scaled, y_train)\n",
        "\n",
        "coef_svm = pd.DataFrame({\n",
        "    \"Variable\": X_train.columns,\n",
        "    \"Coeficiente\": svm.coef_[0]\n",
        "}).sort_values(by=\"Coeficiente\", ascending=False)\n",
        "\n",
        "coef_svm"
      ],
      "metadata": {
        "id": "8dtO6-JRWC6e"
      },
      "execution_count": null,
      "outputs": []
    },
    {
      "cell_type": "markdown",
      "source": [
        "#Reporte Final"
      ],
      "metadata": {
        "id": "uNFs37AEWja0"
      }
    },
    {
      "cell_type": "code",
      "source": [],
      "metadata": {
        "id": "GhOX07zIWmQl"
      },
      "execution_count": null,
      "outputs": []
    },
    {
      "cell_type": "markdown",
      "source": [
        "El objetivo de este análisis fue comprender los factores que influyen en la cancelación de clientes y construir modelos predictivos que permitan anticipar qué usuarios tienen mayor probabilidad de abandonar el servicio. Para ello se trabajó con la base de datos previamente limpiada y estandarizada en la Parte 1 del desafío, garantizando que las variables utilizadas fueran consistentes y relevantes para el análisis.\n",
        "\n",
        "Se implementaron dos enfoques complementarios: un modelo lineal con normalización mediante Regresión Logística y un modelo basado en árboles con Random Forest. La Regresión Logística ofrece interpretabilidad y permite identificar la dirección e intensidad de los efectos de cada variable sobre la cancelación, mientras que Random Forest captura relaciones no lineales y la interacción entre variables sin necesidad de normalizar los datos. Esta combinación asegura tanto la capacidad de predicción como la claridad en la interpretación de resultados.\n",
        "\n",
        "En términos de rendimiento, Random Forest obtuvo mejores valores de recall y F1-score, lo que significa que logró detectar con mayor efectividad a los clientes que efectivamente cancelan. La Regresión Logística, en cambio, mostró resultados sólidos en precisión y exactitud, además de proporcionar una visión más clara sobre cómo influyen las variables individuales. En conjunto, los dos modelos coinciden en señalar un mismo conjunto de factores como los más relevantes en la predicción del churn.\n",
        "\n",
        "Los resultados indican que el menor tiempo de contrato (tenure bajo) se asocia fuertemente con la cancelación, mostrando que los clientes más recientes son los más vulnerables a desertar. Además, los contratos de tipo mes a mes presentan tasas de churn más elevadas en comparación con los contratos anuales o de mayor plazo, lo cual refleja la importancia de fidelizar a los clientes mediante compromisos de mayor duración. Otro hallazgo importante es que los clientes con cargos mensuales más altos tienden a cancelar con más frecuencia, mientras que aquellos con cargos totales acumulados más bajos —es decir, clientes nuevos con poca antigüedad— también presentan una propensión mayor a abandonar.\n",
        "\n",
        "También se observó que el método de pago tiene un rol relevante en la cancelación: quienes utilizan pagos electrónicos simples, como electronic check, muestran una tendencia más alta al churn. En contraste, clientes que acceden a servicios adicionales, como soporte técnico o seguridad en línea, tienen menores probabilidades de cancelar, lo que sugiere que estos servicios generan un valor agregado que contribuye a la permanencia.\n",
        "\n",
        "En conclusión, los factores más determinantes de la cancelación se relacionan con la antigüedad del cliente, el tipo de contrato, los cargos mensuales, el gasto total acumulado y el método de pago. Sobre esta base, se recomienda que la empresa concentre sus estrategias de retención en los primeros meses de relación con el cliente, incentive la migración hacia contratos de mayor plazo y revise la estructura de precios para clientes con cargos elevados. Además, se sugiere promover el uso de servicios adicionales que incrementen la percepción de valor y fortalezcan la lealtad de los clientes. Estas acciones, respaldadas por el análisis predictivo, pueden contribuir a reducir de manera significativa las tasas de churn y mejorar la sostenibilidad del negocio a largo plazo."
      ],
      "metadata": {
        "id": "W_87RVOQXDPa"
      }
    },
    {
      "cell_type": "code",
      "source": [],
      "metadata": {
        "id": "B3OICkgxXN7O"
      },
      "execution_count": null,
      "outputs": []
    }
  ]
}